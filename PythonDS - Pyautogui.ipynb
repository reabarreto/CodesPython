{
 "cells": [
  {
   "cell_type": "code",
   "execution_count": 257,
   "id": "1497e1aa",
   "metadata": {},
   "outputs": [],
   "source": [
    "import pyautogui as pyag\n",
    "import pandas as pd\n",
    "from time import sleep\n",
    "from pyautogui import click, doubleClick\n",
    "from pyautogui import alert, confirm, prompt, password\n",
    "from pyautogui import moveTo\n",
    "from pyautogui import typewrite, press\n",
    "import os, glob, datetime, shutil"
   ]
  },
  {
   "cell_type": "code",
   "execution_count": 9,
   "id": "1177db13",
   "metadata": {},
   "outputs": [
    {
     "data": {
      "text/plain": [
       "Size(width=1366, height=768)"
      ]
     },
     "execution_count": 9,
     "metadata": {},
     "output_type": "execute_result"
    }
   ],
   "source": [
    "pyag.size()"
   ]
  },
  {
   "cell_type": "code",
   "execution_count": 12,
   "id": "1e182bec",
   "metadata": {},
   "outputs": [
    {
     "data": {
      "text/plain": [
       "Point(x=163, y=642)"
      ]
     },
     "execution_count": 12,
     "metadata": {},
     "output_type": "execute_result"
    }
   ],
   "source": [
    "pyag.position()"
   ]
  },
  {
   "cell_type": "code",
   "execution_count": 14,
   "id": "37acda63",
   "metadata": {},
   "outputs": [
    {
     "data": {
      "text/plain": [
       "'OK'"
      ]
     },
     "execution_count": 14,
     "metadata": {},
     "output_type": "execute_result"
    }
   ],
   "source": [
    "pyag.moveTo(797, 521, duration=1)\n",
    "pyag.moveRel(-150, 0, duration=0.5)\n",
    "pyag.moveRel(0, -150, duration=0.5)\n",
    "for k in range(0, 3):\n",
    "    pyag.moveRel(300, 0, duration=0.5)\n",
    "    pyag.moveRel(0, 300, duration=0.5)\n",
    "    pyag.moveRel(-300, 0, duration=0.5)\n",
    "pyag.moveRel(0, -300, duration=0.5)\n",
    "pyag.alert('Parabéns! Você criou seu primeiro fantasma digital.')"
   ]
  },
  {
   "cell_type": "code",
   "execution_count": 136,
   "id": "2761f306",
   "metadata": {},
   "outputs": [],
   "source": [
    "#O código abaixo apresenta uma forma simplificada para calcular uma posição na tela (centro) de acordo com o tamanho obtido\n",
    "#com .size().\n",
    "\n",
    "x, y = pyag.size()\n",
    "x\n",
    "y\n",
    "centro = (x/2, y/2)\n",
    "centro\n",
    "pyag.moveTo(centro, duration=0.5)"
   ]
  },
  {
   "cell_type": "code",
   "execution_count": null,
   "id": "640f35e9",
   "metadata": {},
   "outputs": [],
   "source": []
  },
  {
   "cell_type": "code",
   "execution_count": 28,
   "id": "3e5c2683",
   "metadata": {},
   "outputs": [],
   "source": [
    "#No código abaixo, no primeiro exemplo chamados a função apenas para exibir a posição na tela e no segundo atribuímos\n",
    "#as coordenadas a uma variável que poderá ser reutilizada em outras funções de pyautogui, em ambos casos usamos o valor\n",
    "#obtido para mover o mouse até o ponto desejado e depois dar um clique simples com o mouse.\n",
    "\n",
    "pyag.moveTo(1893, 20, duration=0.5)\n",
    "botao_fechar = pyag.position()\n",
    "botao_fechar\n",
    "pyag.moveTo(botao_fechar, duration=0.5)\n",
    "pyag.click()"
   ]
  },
  {
   "cell_type": "code",
   "execution_count": 137,
   "id": "a519e510",
   "metadata": {},
   "outputs": [],
   "source": [
    "foto = (113, 126)\n",
    "fechar=(1345, 20)\n",
    "pyag.moveTo(foto, duration=1)\n",
    "pyag.click()\n",
    "sleep(0.5)\n",
    "doubleClick()\n",
    "sleep(2)\n",
    "pyag.moveTo(fechar, duration=1)\n",
    "click()"
   ]
  },
  {
   "cell_type": "code",
   "execution_count": 75,
   "id": "a83dce10",
   "metadata": {},
   "outputs": [
    {
     "data": {
      "text/plain": [
       "Point(x=351, y=483)"
      ]
     },
     "execution_count": 75,
     "metadata": {},
     "output_type": "execute_result"
    }
   ],
   "source": [
    "pyag.position()"
   ]
  },
  {
   "cell_type": "code",
   "execution_count": 52,
   "id": "d534f87d",
   "metadata": {},
   "outputs": [
    {
     "data": {
      "text/plain": [
       "Point(x=1365, y=20)"
      ]
     },
     "execution_count": 52,
     "metadata": {},
     "output_type": "execute_result"
    }
   ],
   "source": [
    "botao_fechar"
   ]
  },
  {
   "cell_type": "code",
   "execution_count": 138,
   "id": "3162b078",
   "metadata": {},
   "outputs": [],
   "source": [
    "#Este código realiza o login no ultimatix até a solicitação do\n",
    "#Authcode\n",
    "\n",
    "edge = (669, 749)\n",
    "busca = (230, 61)\n",
    "campoLogin = (348, 392)\n",
    "proceed = (338, 564)\n",
    "authcode = (351,483)\n",
    "termoBusca = 'https://www.ultimatix.net/'\n",
    "CodId='2196058'\n",
    "pyag.moveTo(edge, duration=1)\n",
    "pyag.click()\n",
    "sleep(3)\n",
    "pyag.moveTo(busca, duration=1)\n",
    "pyag.click()\n",
    "sleep(0.5)\n",
    "typewrite(termoBusca)\n",
    "sleep(0.5)\n",
    "press('enter')\n",
    "sleep(6)\n",
    "pyag.moveTo(campoLogin)\n",
    "sleep(0.5)\n",
    "typewrite(CodId)\n",
    "sleep(0.5)\n",
    "pyag.moveTo(proceed)\n",
    "sleep(0.5)\n",
    "pyag.click()\n",
    "sleep(0.5)\n",
    "pyag.moveTo(authcode)\n",
    "sleep(1.5)\n",
    "pyag.click()\n",
    "\n",
    "\n",
    "\n"
   ]
  },
  {
   "cell_type": "code",
   "execution_count": 55,
   "id": "129fc410",
   "metadata": {},
   "outputs": [],
   "source": [
    "#Acesso ao espelho de ponto no apdata\n",
    "botaoNovaAba = 'novaAba.png'\n",
    "workarea = (36, 662)\n",
    "campoPesquisa = (200, 51)\n",
    "frequencia = (247,533)\n",
    "entrarPortal = (1123,480)\n",
    "ponto = (591, 369)\n",
    "mes = (191, 256)\n",
    "buscaMes = (277, 334)\n",
    "ano = (214, 299)\n",
    "pesquisar = (1255, 161)\n",
    "termoBusca='https://cliente.apdata.com.br/dicon/main.html'\n",
    "\n",
    "stdelay = 1\n",
    "\n",
    "#Função realiza reconhecimento da imagem\n",
    "novaAba = pyag.locateCenterOnScreen(botaoNovaAba)\n",
    "\n",
    "#Movimentos\n",
    "moveTo(novaAba)\n",
    "sleep(2)\n",
    "click()\n",
    "moveTo(campoPesquisa, duration = 1)\n",
    "sleep(stdelay)\n",
    "typewrite(termoBusca)\n",
    "press('enter')\n",
    "sleep(stdelay)\n",
    "\n",
    "moveTo(entrarPortal, duration = 1)\n",
    "sleep(stdelay)\n",
    "click()\n",
    "sleep(3)\n",
    "\n",
    "moveTo(workarea, duration = 1)\n",
    "sleep(stdelay)\n",
    "click()\n",
    "sleep(stdelay)\n",
    "\n",
    "moveTo(frequencia, duration = 1)\n",
    "sleep(stdelay)\n",
    "click()\n",
    "sleep(stdelay)\n",
    "\n",
    "moveTo(ponto, duration = 1)\n",
    "sleep(stdelay)\n",
    "click()\n",
    "sleep(stdelay)\n",
    "\n",
    "moveTo(mes, duration = 1)\n",
    "sleep(stdelay)\n",
    "click()\n",
    "typewrite('Janeiro')\n",
    "press('enter')\n",
    "\n",
    "moveTo(buscaMes, duration = 1)\n",
    "sleep(stdelay)\n",
    "click()\n",
    "sleep(stdelay)\n",
    "\n",
    "moveTo(ano, duration = 1)\n",
    "sleep(stdelay)\n",
    "click()\n",
    "sleep(stdelay)\n",
    "typewrite('2022')\n",
    "sleep(stdelay)\n",
    "\n",
    "moveTo(pesquisar, duration = 1)\n",
    "sleep(stdelay)\n",
    "click()"
   ]
  },
  {
   "cell_type": "code",
   "execution_count": 53,
   "id": "5768b37a",
   "metadata": {},
   "outputs": [
    {
     "data": {
      "text/plain": [
       "Point(x=382, y=161)"
      ]
     },
     "execution_count": 53,
     "metadata": {},
     "output_type": "execute_result"
    }
   ],
   "source": [
    "pyag.position()"
   ]
  },
  {
   "cell_type": "code",
   "execution_count": 54,
   "id": "5ac26951",
   "metadata": {},
   "outputs": [
    {
     "name": "stdout",
     "output_type": "stream",
     "text": [
      "curtirei agora\n",
      "O que está esperando?\n"
     ]
    },
    {
     "data": {
      "text/plain": [
       "'OK'"
      ]
     },
     "execution_count": 54,
     "metadata": {},
     "output_type": "execute_result"
    }
   ],
   "source": [
    "# Cixas de diálogo para interação com usuário\n",
    "\n",
    "# Alerta: Caixa simples de mensagens rápidas\n",
    "mensagem = 'seja bem vindo ao meu notebook'\n",
    "alert(mensagem,\n",
    "     title='Jupyter',\n",
    "     button='Inscrição realizada')\n",
    "\n",
    "#Perguntas: Caixas para perguntas objetivas ao usuário\n",
    "pergunta = 'Já me seguiu no github?'\n",
    "resposta = confirm(pergunta, \n",
    "                   buttons=['sim', 'seguirei agora', 'não quero'])\n",
    "\n",
    "print(resposta)\n",
    "\n",
    "#Uso de uma resposta no código\n",
    "\n",
    "if resposta.upper()[0] == 'S':\n",
    "    print('Obrigado!')\n",
    "else: \n",
    "    print('O que está esperando?')\n",
    "\n",
    "#Prompt: Caixa para digitação pelo usuário\n",
    "\n",
    "resposta = prompt('Qual canal ensina python toda semana?')\n",
    "alert(resposta)\n",
    "\n",
    "#Senha: Caixa para receber senhas com texto oculto\n",
    "\n",
    "sucesso = password('Qual o segredo do sucesso?')\n",
    "alert(sucesso)\n",
    "\n",
    "\n",
    "\n"
   ]
  },
  {
   "cell_type": "code",
   "execution_count": 4,
   "id": "dcb2181b",
   "metadata": {},
   "outputs": [],
   "source": [
    "#Bater o ponto no Apdata\n",
    "campoPesquisa = (200, 51)\n",
    "marcarPonto = (173, 679)\n",
    "botaoNovaAba = 'novaAba.png'\n",
    "termoBusca='https://cliente.apdata.com.br/dicon/main.html'\n",
    "\n",
    "novaAba = pyag.locateCenterOnScreen(botaoNovaAba)\n",
    "\n",
    "#Movimentos\n",
    "moveTo(novaAba, duration = 1)\n",
    "sleep(2)\n",
    "click()\n",
    "typewrite(termoBusca)\n",
    "press('enter')\n",
    "sleep(2)\n",
    "moveTo(marcarPonto)\n",
    "#sleep(1)\n",
    "#click()\n",
    "\n"
   ]
  },
  {
   "cell_type": "code",
   "execution_count": 162,
   "id": "c4686eff",
   "metadata": {},
   "outputs": [
    {
     "data": {
      "text/plain": [
       "Point(x=374, y=165)"
      ]
     },
     "execution_count": 162,
     "metadata": {},
     "output_type": "execute_result"
    }
   ],
   "source": [
    "pyag.position()"
   ]
  },
  {
   "cell_type": "code",
   "execution_count": 76,
   "id": "8c231f36",
   "metadata": {},
   "outputs": [
    {
     "name": "stdout",
     "output_type": "stream",
     "text": [
      "Teste Python DSTeste2\n",
      "Teste3\n",
      "Python DS\n"
     ]
    }
   ],
   "source": [
    "# Interação e controle do Sistema Operacional \n",
    "\n",
    "\n",
    "#caminho =r'C:\\Users\\Cliente\\WorkSpace\\Jupyter'\n",
    "#os.chdir(caminho)\n",
    "#os.getcwd()\n",
    "\n",
    "#os.mkdir('SO')\n",
    "#os.mkdir('SO/subdir')\n",
    "#os.chdir('subdir') #Entrando um diretório para frente \n",
    "#os.getcwd()\n",
    "\n",
    "\n",
    "#if os.path.exists('diretório'):\n",
    "#    alert('O diretório já existe')\n",
    "#else: \n",
    "#    alert('O diretório não existe')\n",
    "#    os.mkdir('diretório')\n",
    "\n",
    "#glob.glob(\"*.png\")[0]\n",
    "\n",
    "#with  open('so/so/subdir/arquivo.txt','a') as file:\n",
    "#    file.write('Teste Python DS')\n",
    "\n",
    "#os.chdir('SO/SO/subdir')\n",
    "#os.getcwd()\n",
    "\n",
    "#with open ('arquivo.txt','a') as file:\n",
    "#    file.write('\\nTeste3\\nPython DS')\n",
    "\n",
    "#glob.glob('*.txt')\n",
    "\n",
    "#with open ('arquivo.txt','r') as arquivo:\n",
    "#    print(arquivo.read())\n",
    "    \n",
    "#with open ('arquivo.txt','r') as arquivo:\n",
    "#    content = arquivo.read()\n",
    "#    print(content)\n",
    "    \n",
    "    \n",
    "#with open ('arquivo2.txt','w') as arquivo:\n",
    "#    arquivo.write('PythonDS')\n",
    "    \n",
    "    \n",
    "#with open ('arquivo2.txt ','w') as arquivo:\n",
    "#    arquivo.write('Teste2')\n",
    "\n",
    "arquivos=glob.glob('*.txt')\n",
    "arquivos\n",
    "\n",
    "with open(arquivos[0],'r') as arquivo:\n",
    "    print(arquivo.read())\n",
    "  \n",
    "\n",
    "    \n"
   ]
  },
  {
   "cell_type": "code",
   "execution_count": 98,
   "id": "4979a300",
   "metadata": {},
   "outputs": [
    {
     "name": "stdout",
     "output_type": "stream",
     "text": [
      "Analisando diretório: \"C:\\Users\\Cliente\\WorkSpace\\Jupyter\\OS\\OS\\subdir\"\n",
      "============================================================\n",
      "Conteúdo do diretório:\n",
      "arquivo.txt\n",
      "arquivo2.txt\n",
      "============================================================\n",
      "Diretório de conferência já existe\n",
      "============================================================\n",
      "Análise concluída\n",
      "============================================================\n"
     ]
    }
   ],
   "source": [
    "#Simulação de rotina de conferência diária de arquivos!\n",
    "\n",
    "#Definçião do diretório\n",
    "#caminho = r'C:\\Users\\Cliente\\WorkSpace\\Jupyter\\OS\\OS\\subdir'\n",
    "#os.chdir(caminho)\n",
    "\n",
    "print(f'Analisando diretório: \"{caminho}\"')\n",
    "print('='*60)\n",
    "\n",
    "#Definição da data de execução\n",
    "hoje = datetime.datetime.now()\n",
    "#Captura apenas a data em formato string\n",
    "hoje = str(hoje)[:10]\n",
    "\n",
    "#Rotina de conferência \n",
    "conferidos = 'conf_'+hoje #Um novo diretório para cada dia\n",
    "\n",
    "#Análise do conteúdo do diretório original \n",
    "tipos = '*.txt' #Extensão dos arquivos desejados\n",
    "arquivos = glob.glob(tipos) #procura arquivos no diretório atual \n",
    "\n",
    "print('Conteúdo do diretório:')\n",
    "for arquivo in arquivos:\n",
    "    print(arquivo)\n",
    "\n",
    "print('='*60)\n",
    "\n",
    "#Criação de um diretório (diário) para conferência\n",
    "#verifica se o diretório novo já existe \n",
    "\n",
    "if(os.path.exists(conferidos)):\n",
    "    print('Diretório de conferência já existe')\n",
    "else: \n",
    "    print(\"Diretório inexistente. Criando...\")\n",
    "    os.mkdir(conferidos)\n",
    "    \n",
    "print('='*60)\n",
    "\n",
    "#ESTA ETAPA SIMULA A CONFERÊNCIA\n",
    "\n",
    "\"\"\" Para cada arquivo na pasta\n",
    "    *Copia o arquivo com um novo nome\n",
    "    *Insere uma linha adicional confirmando a conferência\n",
    "    \"\"\"\n",
    "for k in range(0, len(arquivos)):\n",
    "    #Novo nome => Nome arquivo origianl + conf + data atual\n",
    "    novoNome = arquivos[k][:-4]+'_conf_'+hoje+'.txt'\n",
    "    shutil.copy(arquivos[k], f'{conferidos}\\{novoNome}')\n",
    "    \n",
    "    #Adição de conteúdo aos arquivos copiados (CONFERÊNCIA)\n",
    "    with open(f'{conferidos}\\{novoNome}','a') as file:\n",
    "        #Add uma linha ao final do arquivo\n",
    "        file.write(f'\\nConferido em: {hoje}')\n",
    "        \n",
    "print('Análise concluída')\n",
    "print('='*60)\n",
    "\n",
    "\n",
    "    \n",
    "\n",
    "\n",
    "\n",
    "    \n",
    "\n",
    "\n"
   ]
  },
  {
   "cell_type": "code",
   "execution_count": null,
   "id": "60d71c9b",
   "metadata": {
    "scrolled": false
   },
   "outputs": [],
   "source": []
  },
  {
   "cell_type": "code",
   "execution_count": null,
   "id": "63e01836",
   "metadata": {},
   "outputs": [],
   "source": [
    "os.getcwd()"
   ]
  },
  {
   "cell_type": "code",
   "execution_count": 277,
   "id": "b5b8fecb",
   "metadata": {
    "scrolled": true
   },
   "outputs": [
    {
     "data": {
      "text/plain": [
       "\"\\n#Variáveis para controle da condição de parada\\nk = 0\\nn = 100\\n\\nwhile True:\\n    #Procura a imagem\\n    local = pyag.locateCenterOnScreen(arquivo)\\n\\n    #Se imagem for localizada \\n    if local != None:\\n        pyag.moveTo(local)\\n        pyag.click()\\n        print(f'Imagem localizada na posiçõa: {local}')\\n        break\\n\\n    #Após n tentativas o programa encerra\\n    if k >= n:\\n        print('Imagem não localizada')\\n        break\\n\\n    #Aguarda um pouco para tentar novamente\\n    sleep(0.15)\\n    k += 1\\n    \\n   \""
      ]
     },
     "execution_count": 277,
     "metadata": {},
     "output_type": "execute_result"
    }
   ],
   "source": [
    "caminho = r'C:\\Users\\Cliente\\WorkSpace\\Jupyter'\n",
    "os.chdir(caminho)\n",
    "\n",
    "#imagem a ser localizada\n",
    "arquivo = 'Arvores.PNG'\n",
    "botaoNovaAba = 'novaAba.png'\n",
    "\n",
    "termoBusca = 'https://portal.uel.br/home/'\n",
    "\n",
    "estude = (295, 86)\n",
    "mestrado = (151, 558)\n",
    "\n",
    "#Função realiza reconhecimento da imagem\n",
    "novaAba = pyag.locateCenterOnScreen(botaoNovaAba)\n",
    "\n",
    "\n",
    "#Movimentos\n",
    "moveTo(novaAba)\n",
    "sleep(1)\n",
    "click()\n",
    "moveTo(campoPesquisa, duration = 0.5)\n",
    "sleep(stdelay)\n",
    "typewrite(termoBusca)\n",
    "press('enter')\n",
    "sleep(stdelay)\n",
    "\n",
    "moveTo(estude)\n",
    "sleep(2)\n",
    "click()\n",
    "\n",
    "moveTo(mestrado)\n",
    "sleep(2)\n",
    "click()\n",
    "\n",
    "\n",
    "\"\"\"\n",
    "#Variáveis para controle da condição de parada\n",
    "k = 0\n",
    "n = 100\n",
    "\n",
    "while True:\n",
    "    #Procura a imagem\n",
    "    local = pyag.locateCenterOnScreen(arquivo)\n",
    "\n",
    "    #Se imagem for localizada \n",
    "    if local != None:\n",
    "        pyag.moveTo(local)\n",
    "        pyag.click()\n",
    "        print(f'Imagem localizada na posiçõa: {local}')\n",
    "        break\n",
    "\n",
    "    #Após n tentativas o programa encerra\n",
    "    if k >= n:\n",
    "        print('Imagem não localizada')\n",
    "        break\n",
    "\n",
    "    #Aguarda um pouco para tentar novamente\n",
    "    sleep(0.15)\n",
    "    k += 1\n",
    "    \n",
    "   \"\"\" \n",
    "\n"
   ]
  },
  {
   "cell_type": "code",
   "execution_count": 137,
   "id": "3a19f067",
   "metadata": {},
   "outputs": [],
   "source": [
    "local"
   ]
  },
  {
   "cell_type": "code",
   "execution_count": 114,
   "id": "9a2373f6",
   "metadata": {},
   "outputs": [
    {
     "data": {
      "text/plain": [
       "'C:\\\\Users\\\\Cliente\\\\WorkSpace\\\\Jupyter'"
      ]
     },
     "execution_count": 114,
     "metadata": {},
     "output_type": "execute_result"
    }
   ],
   "source": [
    "os.getcwd()"
   ]
  },
  {
   "cell_type": "code",
   "execution_count": 113,
   "id": "43246bc9",
   "metadata": {},
   "outputs": [
    {
     "data": {
      "text/plain": [
       "5"
      ]
     },
     "execution_count": 113,
     "metadata": {},
     "output_type": "execute_result"
    }
   ],
   "source": []
  },
  {
   "cell_type": "code",
   "execution_count": 310,
   "id": "8a276d49",
   "metadata": {},
   "outputs": [
    {
     "name": "stdout",
     "output_type": "stream",
     "text": [
      "Nome:  Joaquim Lima\n",
      "Opção:  1\n",
      "Texto:  Python DS\n",
      "Avaliação:  5\n",
      "------------------------------\n",
      "Nome:  Guido Silva\n",
      "Opção:  2\n",
      "Texto:  Python\n",
      "Avaliação:  4\n",
      "------------------------------\n",
      "Nome:  Bill Souza\n",
      "Opção:  1\n",
      "Texto:  Data Science\n",
      "Avaliação:  5\n",
      "------------------------------\n",
      "Nome:  João Santana\n",
      "Opção:  2\n",
      "Texto:  Python DS\n",
      "Avaliação:  3\n",
      "------------------------------\n",
      "Nome:  Guido Mantega\n",
      "Opção:  1\n",
      "Texto:  Python\n",
      "Avaliação:  3\n",
      "------------------------------\n",
      "Nome:  Luiz Moro\n",
      "Opção:  1\n",
      "Texto:  Data Science\n",
      "Avaliação:  4\n",
      "------------------------------\n",
      "Nome:  Jair Gomes\n",
      "Opção:  1\n",
      "Texto:  Python DS\n",
      "Avaliação:  5\n",
      "------------------------------\n",
      "Nome:  Ciro Messias \n",
      "Opção:  2\n",
      "Texto:  Python\n",
      "Avaliação:  5\n",
      "------------------------------\n",
      "Nome:  Sergio Inácio\n",
      "Opção:  2\n",
      "Texto:  Data Science\n",
      "Avaliação:  4\n",
      "------------------------------\n"
     ]
    },
    {
     "data": {
      "text/plain": [
       "'OK'"
      ]
     },
     "execution_count": 310,
     "metadata": {},
     "output_type": "execute_result"
    }
   ],
   "source": [
    "caminho = r'C:\\Users\\Cliente\\WorkSpace\\Jupyter'\n",
    "os.chdir(caminho)\n",
    "\n",
    "std = 0.25\n",
    "dur=0.25\n",
    "\n",
    "#imagem a ser localizada\n",
    "botao = 'botao_ENVIAR.png'\n",
    "arquivo = 'base.xlsx'\n",
    "dados = pd.read_excel(arquivo)\n",
    "\n",
    "\"\"\"\n",
    "Conferência dos dados da planilha\n",
    "- Após conferência e desenvolvimento do RPA\n",
    "o trecho abaixo deve ser apago ou desativado para\n",
    "uso apenas em testes.\n",
    "\n",
    "\"\"\"\n",
    "for i in range(0, len (dados.NOME)):\n",
    "    print('Nome: ', dados.iloc[i]['NOME'])\n",
    "    print('Opção: ', dados.iloc[i]['ESCOLHA'])\n",
    "    print('Texto: ', dados.iloc[i]['TEXTO'])\n",
    "    print('Avaliação: ', dados.iloc[i]['AVALIAÇÃO'])\n",
    "    print('-'*30)\n",
    "    \n",
    "\"\"\"    \n",
    "Captura de posições dos campos:\n",
    "- Captura no shell das posições da tela\n",
    "usando .position()\n",
    "\"\"\"\n",
    "\n",
    "cmp_nome = (119, 287)\n",
    "cmp_escolha1 = (119, 396)\n",
    "cmp_escolha2 = (119, 430)\n",
    "cmp_texto = (119, 385)\n",
    "cmp_aval3 = (330, 530)\n",
    "cmp_aval4 = (397, 530)\n",
    "cmp_aval5 = (463, 530)\n",
    "cmp_proximo = (180, 200)\n",
    "\n",
    "for i in range(0, len(dados.NOME)):\n",
    "        \n",
    "    \n",
    "        sleep(std)\n",
    "\n",
    "        pyag.moveTo(cmp_nome, duration=dur)\n",
    "        pyag.click()\n",
    "\n",
    "        sleep(std)\n",
    "\n",
    "        pyag.typewrite(dados.iloc[i]['NOME'],interval=0.05)\n",
    "\n",
    "        #Escolha\n",
    "        if dados.iloc[i]['ESCOLHA'] == 1:\n",
    "            pyag.moveTo(cmp_escolha1, duration = dur)\n",
    "\n",
    "        else: \n",
    "            pyag.moveTo(cmp_escolha2, duration=dur)\n",
    "\n",
    "        pyag.click()\n",
    "\n",
    "        sleep(std)\n",
    "        pyag.scroll(-250)\n",
    "        \n",
    "\n",
    "        #Avaliação\n",
    "        if dados.iloc[i]['AVALIAÇÃO'] == 3:\n",
    "            pyag.moveTo(cmp_aval3, duration = dur)\n",
    "        elif dados.iloc[i]['AVALIAÇÃO'] == 4:\n",
    "            pyag.moveTo(cmp_aval4, duration = dur)\n",
    "        elif dados.iloc[i]['AVALIAÇÃO'] == 5:\n",
    "            pyag.moveTo(cmp_aval5, duration = dur)\n",
    "        else:\n",
    "            alert('Opção não é válida')\n",
    "\n",
    "        pyag.click()\n",
    "\n",
    "        pyag.moveTo(cmp_texto, duration=dur)\n",
    "        pyag.click()\n",
    "        sleep(std)\n",
    "        pyag.typewrite(dados.iloc[i]['TEXTO'], interval=0.05)\n",
    "\n",
    "        #Reconhecimento de imagem\n",
    "        enviar = pyag.locateCenterOnScreen(botao)\n",
    "        pyag.moveTo(enviar, duration=dur)\n",
    "        pyag.click()\n",
    "\n",
    "        #PRÓXIMO\n",
    "        sleep(std)\n",
    "        pyag.moveTo(cmp_proximo, duration=dur)\n",
    "        pyag.click()\n",
    "\n",
    "alert('Sua lista de cadastros pendentes está vazia')\n",
    "resposta = prompt('O que achou dos meus serviços? Me dê uma nota :)')\n",
    "alert('Muito obrigado')\n",
    "\n"
   ]
  },
  {
   "cell_type": "code",
   "execution_count": 308,
   "id": "ed3435af",
   "metadata": {
    "scrolled": true
   },
   "outputs": [
    {
     "data": {
      "text/plain": [
       "Point(x=930, y=169)"
      ]
     },
     "execution_count": 308,
     "metadata": {},
     "output_type": "execute_result"
    }
   ],
   "source": [
    "pyag.position()"
   ]
  },
  {
   "cell_type": "code",
   "execution_count": 226,
   "id": "b1c7f09e",
   "metadata": {},
   "outputs": [],
   "source": [
    "estude = (295, 86)\n",
    "mestrado = (151, 558)\n"
   ]
  },
  {
   "cell_type": "code",
   "execution_count": 227,
   "id": "b81d9a79",
   "metadata": {},
   "outputs": [],
   "source": []
  },
  {
   "cell_type": "code",
   "execution_count": null,
   "id": "ca928918",
   "metadata": {},
   "outputs": [],
   "source": []
  }
 ],
 "metadata": {
  "kernelspec": {
   "display_name": "Python 3",
   "language": "python",
   "name": "python3"
  },
  "language_info": {
   "codemirror_mode": {
    "name": "ipython",
    "version": 3
   },
   "file_extension": ".py",
   "mimetype": "text/x-python",
   "name": "python",
   "nbconvert_exporter": "python",
   "pygments_lexer": "ipython3",
   "version": "3.8.8"
  }
 },
 "nbformat": 4,
 "nbformat_minor": 5
}
