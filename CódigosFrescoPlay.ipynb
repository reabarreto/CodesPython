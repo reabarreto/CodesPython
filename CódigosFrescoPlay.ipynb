{
 "cells": [
  {
   "cell_type": "code",
   "execution_count": 2,
   "id": "14088d0d",
   "metadata": {},
   "outputs": [
    {
     "name": "stdout",
     "output_type": "stream",
     "text": [
      "matrix a dimension  (2, 2)\n",
      "matrix b dimension  (2, 3)\n",
      "dot product of a and b:  [[21 24 27]\n",
      " [47 54 61]]\n",
      "matrix c dimension  (2, 3)\n"
     ]
    }
   ],
   "source": [
    "#Produto escalar \n",
    "\n",
    "import numpy as np \n",
    "\n",
    "\n",
    "\n",
    "#matrix a\n",
    "\n",
    "a = np.array([[1,2],[3,4]])\n",
    "\n",
    "print(\"matrix a dimension \", a.shape)\n",
    "\n",
    "\n",
    "\n",
    "#matrix b\n",
    "\n",
    "b = np.array([[5,6,7],[8,9, 10]]) \n",
    "\n",
    "print(\"matrix b dimension \", b.shape)\n",
    "\n",
    "\n",
    "\n",
    "#matrix c = a.b\n",
    "\n",
    "c = np.dot(a,b)\n",
    "\n",
    "print(\"dot product of a and b: \", c)\n",
    "\n",
    "print(\"matrix c dimension \", c.shape)\n",
    "\n"
   ]
  },
  {
   "cell_type": "code",
   "execution_count": 3,
   "id": "02150c3f",
   "metadata": {},
   "outputs": [
    {
     "name": "stdout",
     "output_type": "stream",
     "text": [
      "matrix a dimension  (2, 2)\n",
      "matrix b dimension  (2, 2)\n",
      "element wise product of matrices a and b:  [[ 5 12]\n",
      " [24 36]]\n",
      "matrix c dimension  (2, 2)\n"
     ]
    }
   ],
   "source": [
    "# código para produto element-wise em Python\n",
    "\n",
    "import numpy as np \n",
    "\n",
    "\n",
    "\n",
    "#matrix a\n",
    "\n",
    "a = np.array([[1,2],[3,4]])\n",
    "\n",
    "print(\"matrix a dimension \", a.shape)\n",
    "\n",
    "\n",
    "\n",
    "#matrix b\n",
    "\n",
    "b = np.array([[5,6],[8,9]]) \n",
    "\n",
    "print(\"matrix b dimension \", b.shape)\n",
    "\n",
    "\n",
    "\n",
    "#matrix c = a * b\n",
    "\n",
    "c = np.multiply(a,b)\n",
    "\n",
    "print(\"element wise product of matrices a and b: \", c)\n",
    "\n",
    "print(\"matrix c dimension \", c.shape)\n"
   ]
  },
  {
   "cell_type": "code",
   "execution_count": null,
   "id": "0ee14723",
   "metadata": {},
   "outputs": [],
   "source": [
    "# Multiplicação de uma matriz e um vetor linha\n",
    "\n",
    "a = np.array([[10, 10, 10], [20, 20, 20], [30, 30, 30]])\n",
    "\n",
    "b = np.array([1, 2, 3])\n",
    "\n",
    "c = a * b\n",
    "\n",
    "print(c)\n"
   ]
  },
  {
   "cell_type": "code",
   "execution_count": null,
   "id": "48f02233",
   "metadata": {},
   "outputs": [],
   "source": [
    "#Adição de uma matriz e um escalar\n",
    "\n",
    "a = np.array([[10, 10, 10], [20, 20, 20], [30, 30, 30]])\n",
    "\n",
    "b = 1\n",
    "\n",
    "c = a + b\n",
    "\n",
    "print(c)\n"
   ]
  },
  {
   "cell_type": "code",
   "execution_count": 4,
   "id": "389e58f6",
   "metadata": {},
   "outputs": [
    {
     "name": "stdout",
     "output_type": "stream",
     "text": [
      "[[ 1  4  9]\n",
      " [16 25 36]\n",
      " [49 64 81]]\n"
     ]
    }
   ],
   "source": [
    "\n",
    "# Chamada de função a nível de elemento\n",
    "\n",
    "def exp(x, n):\n",
    "\n",
    "  return x ** n\n",
    "\n",
    "\n",
    "\n",
    "a = np.array([[1, 2, 3], [4, 5, 6], [7, 8, 9]])\n",
    "\n",
    "print(exp(a, 2))\n"
   ]
  },
  {
   "cell_type": "code",
   "execution_count": null,
   "id": "51170aba",
   "metadata": {},
   "outputs": [],
   "source": []
  }
 ],
 "metadata": {
  "kernelspec": {
   "display_name": "Python 3",
   "language": "python",
   "name": "python3"
  },
  "language_info": {
   "codemirror_mode": {
    "name": "ipython",
    "version": 3
   },
   "file_extension": ".py",
   "mimetype": "text/x-python",
   "name": "python",
   "nbconvert_exporter": "python",
   "pygments_lexer": "ipython3",
   "version": "3.8.8"
  }
 },
 "nbformat": 4,
 "nbformat_minor": 5
}
