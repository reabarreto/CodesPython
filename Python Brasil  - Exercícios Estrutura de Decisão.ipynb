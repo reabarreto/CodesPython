{
 "cells": [
  {
   "cell_type": "markdown",
   "id": "9e299509",
   "metadata": {},
   "source": [
    "Faça um Programa que peça dois números e imprima o maior deles."
   ]
  },
  {
   "cell_type": "code",
   "execution_count": null,
   "id": "fcd696f7",
   "metadata": {},
   "outputs": [
    {
     "name": "stdout",
     "output_type": "stream",
     "text": [
      "Informe dois números diferentes: \n",
      "Informe o primeiro numero: \n"
     ]
    }
   ],
   "source": [
    "print('Informe dois números diferentes ')\n",
    "print('Informe o primeiro numero: ')\n",
    "x=input()\n",
    "print('Informe o segundo número: ')\n",
    "y=input()\n",
    "\n",
    "### Estrutura de decisão:\n",
    "\n",
    "if (x>y):\n",
    "    print(f'O numero {x} é maior que {y}')\n",
    "else:\n",
    "     print(f'O numero {y} é maior que {x}')\n"
   ]
  },
  {
   "cell_type": "code",
   "execution_count": null,
   "id": "84941db1",
   "metadata": {},
   "outputs": [],
   "source": []
  }
 ],
 "metadata": {
  "kernelspec": {
   "display_name": "Python 3",
   "language": "python",
   "name": "python3"
  },
  "language_info": {
   "codemirror_mode": {
    "name": "ipython",
    "version": 3
   },
   "file_extension": ".py",
   "mimetype": "text/x-python",
   "name": "python",
   "nbconvert_exporter": "python",
   "pygments_lexer": "ipython3",
   "version": "3.8.8"
  }
 },
 "nbformat": 4,
 "nbformat_minor": 5
}
